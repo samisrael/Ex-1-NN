{
 "cells": [
  {
   "cell_type": "code",
   "execution_count": 2,
   "metadata": {},
   "outputs": [],
   "source": [
    "#import libraries\n",
    "import pandas as pd\n",
    "import io\n",
    "from sklearn.preprocessing import StandardScaler\n",
    "from sklearn.preprocessing import MinMaxScaler\n",
    "from sklearn.model_selection import train_test_split"
   ]
  },
  {
   "cell_type": "code",
   "execution_count": 3,
   "metadata": {},
   "outputs": [],
   "source": [
    "#Read the dataset from drive\n",
    "df = pd.read_csv(\"Churn_Modelling.csv\")"
   ]
  },
  {
   "cell_type": "code",
   "execution_count": 4,
   "metadata": {},
   "outputs": [
    {
     "name": "stdout",
     "output_type": "stream",
     "text": [
      "Missing values per column:\n",
      "RowNumber          0\n",
      "CustomerId         0\n",
      "Surname            0\n",
      "CreditScore        0\n",
      "Geography          0\n",
      "Gender             0\n",
      "Age                0\n",
      "Tenure             0\n",
      "Balance            0\n",
      "NumOfProducts      0\n",
      "HasCrCard          0\n",
      "IsActiveMember     0\n",
      "EstimatedSalary    0\n",
      "Exited             0\n",
      "dtype: int64\n"
     ]
    }
   ],
   "source": [
    "# Finding Missing Values\n",
    "missing_values = df.isnull().sum()\n",
    "print(\"Missing values per column:\")\n",
    "print(missing_values)"
   ]
  },
  {
   "cell_type": "code",
   "execution_count": 6,
   "metadata": {},
   "outputs": [],
   "source": [
    "df = df.drop(['Surname', 'Geography','Gender'], axis=1)\n",
    "#Handling Missing values\n",
    "df.fillna(df.median(), inplace=True)"
   ]
  },
  {
   "cell_type": "code",
   "execution_count": 7,
   "metadata": {},
   "outputs": [
    {
     "name": "stdout",
     "output_type": "stream",
     "text": [
      "Number of duplicate rows: 0\n"
     ]
    }
   ],
   "source": [
    "# Check for duplicates\n",
    "duplicates = df.duplicated().sum()\n",
    "print(f\"Number of duplicate rows: {duplicates}\")\n",
    "\n",
    "# Remove duplicates\n",
    "df.drop_duplicates(inplace=True)\n",
    "s = StandardScaler()\n",
    "df1= pd.DataFrame(s.fit_transform(df))"
   ]
  },
  {
   "cell_type": "code",
   "execution_count": 8,
   "metadata": {},
   "outputs": [
    {
     "name": "stdout",
     "output_type": "stream",
     "text": [
      "Number of outliers per column:\n",
      "RowNumber             0\n",
      "CustomerId            0\n",
      "CreditScore          15\n",
      "Age                 359\n",
      "Tenure                0\n",
      "Balance               0\n",
      "NumOfProducts        60\n",
      "HasCrCard             0\n",
      "IsActiveMember        0\n",
      "EstimatedSalary       0\n",
      "Exited             2037\n",
      "dtype: int64\n"
     ]
    },
    {
     "data": {
      "text/html": [
       "<div>\n",
       "<style scoped>\n",
       "    .dataframe tbody tr th:only-of-type {\n",
       "        vertical-align: middle;\n",
       "    }\n",
       "\n",
       "    .dataframe tbody tr th {\n",
       "        vertical-align: top;\n",
       "    }\n",
       "\n",
       "    .dataframe thead th {\n",
       "        text-align: right;\n",
       "    }\n",
       "</style>\n",
       "<table border=\"1\" class=\"dataframe\">\n",
       "  <thead>\n",
       "    <tr style=\"text-align: right;\">\n",
       "      <th></th>\n",
       "      <th>0</th>\n",
       "      <th>1</th>\n",
       "      <th>2</th>\n",
       "      <th>3</th>\n",
       "      <th>4</th>\n",
       "      <th>5</th>\n",
       "      <th>6</th>\n",
       "      <th>7</th>\n",
       "      <th>8</th>\n",
       "      <th>9</th>\n",
       "      <th>10</th>\n",
       "    </tr>\n",
       "  </thead>\n",
       "  <tbody>\n",
       "    <tr>\n",
       "      <th>0</th>\n",
       "      <td>-1.731878</td>\n",
       "      <td>-0.783213</td>\n",
       "      <td>-0.326221</td>\n",
       "      <td>0.293517</td>\n",
       "      <td>-1.041760</td>\n",
       "      <td>-1.225848</td>\n",
       "      <td>-0.911583</td>\n",
       "      <td>0.646092</td>\n",
       "      <td>0.970243</td>\n",
       "      <td>0.021886</td>\n",
       "      <td>1.977165</td>\n",
       "    </tr>\n",
       "    <tr>\n",
       "      <th>1</th>\n",
       "      <td>-1.731531</td>\n",
       "      <td>-0.606534</td>\n",
       "      <td>-0.440036</td>\n",
       "      <td>0.198164</td>\n",
       "      <td>-1.387538</td>\n",
       "      <td>0.117350</td>\n",
       "      <td>-0.911583</td>\n",
       "      <td>-1.547768</td>\n",
       "      <td>0.970243</td>\n",
       "      <td>0.216534</td>\n",
       "      <td>-0.505775</td>\n",
       "    </tr>\n",
       "    <tr>\n",
       "      <th>2</th>\n",
       "      <td>-1.731185</td>\n",
       "      <td>-0.995885</td>\n",
       "      <td>-1.536794</td>\n",
       "      <td>0.293517</td>\n",
       "      <td>1.032908</td>\n",
       "      <td>1.333053</td>\n",
       "      <td>2.527057</td>\n",
       "      <td>0.646092</td>\n",
       "      <td>-1.030670</td>\n",
       "      <td>0.240687</td>\n",
       "      <td>1.977165</td>\n",
       "    </tr>\n",
       "    <tr>\n",
       "      <th>3</th>\n",
       "      <td>-1.730838</td>\n",
       "      <td>0.144767</td>\n",
       "      <td>0.501521</td>\n",
       "      <td>0.007457</td>\n",
       "      <td>-1.387538</td>\n",
       "      <td>-1.225848</td>\n",
       "      <td>0.807737</td>\n",
       "      <td>-1.547768</td>\n",
       "      <td>-1.030670</td>\n",
       "      <td>-0.108918</td>\n",
       "      <td>-0.505775</td>\n",
       "    </tr>\n",
       "    <tr>\n",
       "      <th>4</th>\n",
       "      <td>-1.730492</td>\n",
       "      <td>0.652659</td>\n",
       "      <td>2.063884</td>\n",
       "      <td>0.388871</td>\n",
       "      <td>-1.041760</td>\n",
       "      <td>0.785728</td>\n",
       "      <td>-0.911583</td>\n",
       "      <td>0.646092</td>\n",
       "      <td>0.970243</td>\n",
       "      <td>-0.365276</td>\n",
       "      <td>-0.505775</td>\n",
       "    </tr>\n",
       "  </tbody>\n",
       "</table>\n",
       "</div>"
      ],
      "text/plain": [
       "         0         1         2         3         4         5         6   \\\n",
       "0 -1.731878 -0.783213 -0.326221  0.293517 -1.041760 -1.225848 -0.911583   \n",
       "1 -1.731531 -0.606534 -0.440036  0.198164 -1.387538  0.117350 -0.911583   \n",
       "2 -1.731185 -0.995885 -1.536794  0.293517  1.032908  1.333053  2.527057   \n",
       "3 -1.730838  0.144767  0.501521  0.007457 -1.387538 -1.225848  0.807737   \n",
       "4 -1.730492  0.652659  2.063884  0.388871 -1.041760  0.785728 -0.911583   \n",
       "\n",
       "         7         8         9         10  \n",
       "0  0.646092  0.970243  0.021886  1.977165  \n",
       "1 -1.547768  0.970243  0.216534 -0.505775  \n",
       "2  0.646092 -1.030670  0.240687  1.977165  \n",
       "3 -1.547768 -1.030670 -0.108918 -0.505775  \n",
       "4  0.646092  0.970243 -0.365276 -0.505775  "
      ]
     },
     "execution_count": 8,
     "metadata": {},
     "output_type": "execute_result"
    }
   ],
   "source": [
    "# Detecting outliers using IQR\n",
    "Q1 = df.quantile(0.25)\n",
    "Q3 = df.quantile(0.75)\n",
    "IQR = Q3 - Q1\n",
    "\n",
    "# Define outlier criteria\n",
    "outliers = (df < (Q1 - 1.5 * IQR)) | (df > (Q3 + 1.5 * IQR))\n",
    "outliers_sum = outliers.sum()\n",
    "\n",
    "print(\"Number of outliers per column:\")\n",
    "print(outliers_sum)\n",
    "df1.head()"
   ]
  },
  {
   "cell_type": "code",
   "execution_count": 9,
   "metadata": {},
   "outputs": [
    {
     "data": {
      "text/plain": [
       "array([[-1.73187761, -0.78321342, -0.32622142, ...,  0.64609167,\n",
       "         0.97024255,  0.02188649],\n",
       "       [-1.7315312 , -0.60653412, -0.44003595, ..., -1.54776799,\n",
       "         0.97024255,  0.21653375],\n",
       "       [-1.73118479, -0.99588476, -1.53679418, ...,  0.64609167,\n",
       "        -1.03067011,  0.2406869 ],\n",
       "       ...,\n",
       "       [ 1.73118479, -1.47928179,  0.60498839, ..., -1.54776799,\n",
       "         0.97024255, -1.00864308],\n",
       "       [ 1.7315312 , -0.11935577,  1.25683526, ...,  0.64609167,\n",
       "        -1.03067011, -0.12523071],\n",
       "       [ 1.73187761, -0.87055909,  1.46377078, ...,  0.64609167,\n",
       "        -1.03067011, -1.07636976]])"
      ]
     },
     "execution_count": 9,
     "metadata": {},
     "output_type": "execute_result"
    }
   ],
   "source": [
    "\n",
    "# Selecting numeric columns for normalization\n",
    "numeric_features = df.select_dtypes(include=['float64', 'int64']).columns\n",
    "\n",
    "# Normalize the numeric columns\n",
    "scaler = MinMaxScaler()\n",
    "df[numeric_features] = scaler.fit_transform(df[numeric_features])\n",
    "X = df1.iloc[:,:-1].values\n",
    "X"
   ]
  },
  {
   "cell_type": "code",
   "execution_count": 10,
   "metadata": {},
   "outputs": [],
   "source": [
    "# Splitting the dataset into input features (X) and output variable (y)\n",
    "X = df.drop('Exited', axis=1)\n",
    "y = df['Exited']\n"
   ]
  },
  {
   "cell_type": "code",
   "execution_count": 13,
   "metadata": {},
   "outputs": [],
   "source": [
    "#splitting the data for training & Testing\n",
    "X_train,X_test,y_train,y_test = train_test_split(X,y,test_size=0.2)"
   ]
  },
  {
   "cell_type": "code",
   "execution_count": 14,
   "metadata": {},
   "outputs": [
    {
     "name": "stdout",
     "output_type": "stream",
     "text": [
      "X_train \n",
      "       RowNumber  CustomerId  CreditScore       Age  Tenure   Balance  \\\n",
      "6389   0.638964    0.487645        0.510  0.162162     0.9  0.539750   \n",
      "7001   0.700170    0.388629        0.662  0.405405     0.5  0.556857   \n",
      "299    0.029903    0.983199        0.554  0.202703     0.5  0.000000   \n",
      "6816   0.681668    0.386185        0.418  0.432432     0.5  0.648480   \n",
      "7375   0.737574    0.292693        0.578  0.797297     0.6  0.322545   \n",
      "...         ...         ...          ...       ...     ...       ...   \n",
      "6025   0.602560    0.576889        0.502  0.378378     0.3  0.391405   \n",
      "2466   0.246625    0.616459        0.332  0.189189     0.3  0.578586   \n",
      "1196   0.119612    0.693751        0.736  0.135135     0.4  0.261633   \n",
      "3201   0.320132    0.287581        0.744  0.027027     0.6  0.000000   \n",
      "5146   0.514651    0.253175        1.000  0.189189     0.2  0.512750   \n",
      "\n",
      "      NumOfProducts  HasCrCard  IsActiveMember  EstimatedSalary  \n",
      "6389       0.000000        0.0             1.0         0.932125  \n",
      "7001       0.333333        0.0             0.0         0.365311  \n",
      "299        0.333333        1.0             1.0         0.518681  \n",
      "6816       0.000000        0.0             0.0         0.752756  \n",
      "7375       0.333333        1.0             1.0         0.279115  \n",
      "...             ...        ...             ...              ...  \n",
      "6025       0.000000        0.0             0.0         0.688828  \n",
      "2466       0.333333        0.0             0.0         0.557103  \n",
      "1196       0.000000        1.0             0.0         0.143761  \n",
      "3201       0.333333        1.0             0.0         0.977467  \n",
      "5146       0.333333        0.0             0.0         0.272049  \n",
      "\n",
      "[8000 rows x 10 columns]\n",
      "Length of X_train - 8000\n",
      "X_test \n",
      "       RowNumber  CustomerId  CreditScore       Age  Tenure   Balance  \\\n",
      "9182   0.918292    0.399530        0.494  0.135135     0.0  0.568781   \n",
      "3755   0.375538    0.217326        0.788  0.148649     0.1  0.000000   \n",
      "5610   0.561056    0.872498        0.766  0.135135     0.5  0.000000   \n",
      "6506   0.650665    0.545600        0.470  0.513514     0.1  0.512052   \n",
      "3140   0.314031    0.859522        0.606  0.162162     0.4  0.000000   \n",
      "...         ...         ...          ...       ...     ...       ...   \n",
      "5079   0.507951    0.506842        0.154  0.256757     0.5  0.000000   \n",
      "4221   0.422142    0.221462        0.702  0.067568     0.5  0.741740   \n",
      "5307   0.530753    0.652049        0.368  0.418919     0.7  0.000000   \n",
      "3914   0.391439    0.414518        0.616  0.351351     0.2  0.671174   \n",
      "1227   0.122712    0.192580        0.414  0.135135     0.7  0.583684   \n",
      "\n",
      "      NumOfProducts  HasCrCard  IsActiveMember  EstimatedSalary  \n",
      "9182       0.000000        1.0             0.0         0.636170  \n",
      "3755       0.000000        0.0             0.0         0.412096  \n",
      "5610       0.333333        0.0             0.0         0.063754  \n",
      "6506       0.000000        1.0             0.0         0.932416  \n",
      "3140       0.333333        1.0             0.0         0.603680  \n",
      "...             ...        ...             ...              ...  \n",
      "5079       0.333333        1.0             1.0         0.607426  \n",
      "4221       0.333333        1.0             1.0         0.383035  \n",
      "5307       0.000000        1.0             0.0         0.067781  \n",
      "3914       0.000000        1.0             1.0         0.070843  \n",
      "1227       0.333333        1.0             0.0         0.921619  \n",
      "\n",
      "[2000 rows x 10 columns]\n",
      "Length of X_test - 2000\n",
      "Training data shape: (8000, 10), (8000,)\n",
      "Testing data shape: (2000, 10), (2000,)\n"
     ]
    }
   ],
   "source": [
    "#Print the training data and testing data\n",
    "print(f\"X_train \\n {X_train}\")\n",
    "print(f\"Length of X_train - {len(X_train)}\")\n",
    "print(f\"X_test \\n {X_test}\")\n",
    "print(f\"Length of X_test - {len(X_test)}\")\n",
    "\n",
    "print(f\"Training data shape: {X_train.shape}, {y_train.shape}\")\n",
    "print(f\"Testing data shape: {X_test.shape}, {y_test.shape}\")"
   ]
  }
 ],
 "metadata": {
  "kernelspec": {
   "display_name": "Python 3",
   "language": "python",
   "name": "python3"
  },
  "language_info": {
   "codemirror_mode": {
    "name": "ipython",
    "version": 3
   },
   "file_extension": ".py",
   "mimetype": "text/x-python",
   "name": "python",
   "nbconvert_exporter": "python",
   "pygments_lexer": "ipython3",
   "version": "3.10.12"
  }
 },
 "nbformat": 4,
 "nbformat_minor": 2
}
